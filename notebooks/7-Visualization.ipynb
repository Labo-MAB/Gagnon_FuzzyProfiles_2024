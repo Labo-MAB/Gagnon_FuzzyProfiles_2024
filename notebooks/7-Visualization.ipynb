{
 "cells": [
  {
   "cell_type": "markdown",
   "metadata": {},
   "source": [
    "#### **Creating more custom plots, figures, and graphs.**\n",
    "\n",
    "The current notebook will generate some figures found in Gagnon at al. 2024. Most of them have been created to highlight some specific results that were not already generated during the actual analysis. *Please note, this notebook doesn't perform any analysis, it simply reuse previously computed results and visualize them.*\n",
    "\n",
    "**Here is a list of the custom figures that will created with the following cells:**\n",
    "\n",
    "1. Radar plot showing mean cognitive and behavioral values and stds for all studies combined. Also generate a radar plot for each individual study.\n",
    "1. Graph network with data coming from the BANDA and GESTE studies labelled. "
   ]
  },
  {
   "cell_type": "code",
   "execution_count": 1,
   "metadata": {},
   "outputs": [],
   "source": [
    "# Imports\n",
    "import os\n",
    "\n",
    "import networkx as nx\n",
    "import numpy as np\n",
    "import pandas as pd\n",
    "from scipy.stats import f_oneway\n",
    "from sklearn.preprocessing import MinMaxScaler\n",
    "\n",
    "from neurostatx.clustering.viz import radar_plot\n",
    "from neurostatx.network.utils import fetch_attributes_df, fetch_edge_data\n",
    "from neurostatx.network.viz import visualize_network"
   ]
  },
  {
   "cell_type": "code",
   "execution_count": 2,
   "metadata": {},
   "outputs": [],
   "source": [
    "# Setting up relevant paths.\n",
    "repository_path = \"/Users/anthonygagnon/code/Article-s-Code/\" # CHANGE THIS\n",
    "abcd_base_path = \"/Volumes/T7/CCPM/ABCD/Release_5.1/abcd-data-release-5.1/\" # CHANGE THIS\n",
    "geste_base_dir = \"/Volumes/T7/CCPM/GESTE/\" # CHANGE THIS\n",
    "banda_dir = '/Volumes/T7/CCPM/BANDA/BANDARelease1.1/' # CHANGE THIS\n",
    "output_folder = \"/Volumes/T7/CCPM/RESULTS_JUNE_24/\" # CHANGE THIS\n",
    "data_dir = f\"{output_folder}/fuzzyclustering/\"\n",
    "output_dir = f\"{output_folder}/viz/\"\n",
    "\n",
    "# Create output directory if it does not exist.\n",
    "if not os.path.exists(output_dir):\n",
    "    os.makedirs(output_dir)"
   ]
  },
  {
   "cell_type": "code",
   "execution_count": 3,
   "metadata": {},
   "outputs": [],
   "source": [
    "# Load up the graph network file.\n",
    "G = nx.read_gml(f\"{data_dir}/GraphNetwork.gml\")"
   ]
  },
  {
   "cell_type": "code",
   "execution_count": 4,
   "metadata": {},
   "outputs": [
    {
     "name": "stderr",
     "output_type": "stream",
     "text": [
      "/Users/anthonygagnon/Library/Caches/pypoetry/virtualenvs/neurostatx-BZcRfNb6-py3.11/lib/python3.11/site-packages/networkx/utils/decorators.py:1279: FutureWarning: Pass filter_node=<function filter_node_subjects at 0x3144e7880> as keyword args. From NetworkX version 3.4 passing these as positional arguments will result in an error\n",
      "  warnings.warn(\n",
      "/Users/anthonygagnon/Library/Caches/pypoetry/virtualenvs/neurostatx-BZcRfNb6-py3.11/lib/python3.11/site-packages/networkx/utils/decorators.py:1279: FutureWarning: Pass filter_node=<function filter_node_centroids at 0x3144e77e0> as keyword args. From NetworkX version 3.4 passing these as positional arguments will result in an error\n",
      "  warnings.warn(\n",
      "/Users/anthonygagnon/Library/Caches/pypoetry/virtualenvs/neurostatx-BZcRfNb6-py3.11/lib/python3.11/site-packages/networkx/utils/decorators.py:1279: FutureWarning: Pass filter_node=<function filter_node_subjects at 0x3144e7880> as keyword args. From NetworkX version 3.4 passing these as positional arguments will result in an error\n",
      "  warnings.warn(\n"
     ]
    }
   ],
   "source": [
    "# Fetch the attributes from the graph network.\n",
    "attributes_df = fetch_attributes_df(G, attributes='')\n",
    "\n",
    "# Fetch the edge data. \n",
    "edge_df = fetch_edge_data(G)"
   ]
  },
  {
   "cell_type": "markdown",
   "metadata": {},
   "source": [
    "#### **Generate a radar plot for the global population (all 3 studies).**"
   ]
  },
  {
   "cell_type": "code",
   "execution_count": 5,
   "metadata": {},
   "outputs": [],
   "source": [
    "# Assertion that index from the attributes df is the same as the edge df.\n",
    "assert np.all(attributes_df.index == edge_df.index), \"Mismatch in index between attributes and edge data.\""
   ]
  },
  {
   "cell_type": "code",
   "execution_count": 6,
   "metadata": {},
   "outputs": [],
   "source": [
    "# Scale the values by dividing them by the maximum value. Using a loop to avoid hardcoding.\n",
    "vars = ['Internalization', 'Externalization', 'Stress', 'VA', 'EFPS', 'MEM']\n",
    "\n",
    "for var in vars:\n",
    "    attributes_df.loc[:, var] = MinMaxScaler((0, 5)).fit_transform(attributes_df[[var]])"
   ]
  },
  {
   "cell_type": "code",
   "execution_count": 7,
   "metadata": {},
   "outputs": [],
   "source": [
    "membership = np.argmax(edge_df.values, axis=1)\n",
    "radar_plot(attributes_df.loc[:, vars], membership, title='FCM Clustering',\n",
    "           output=f\"{output_dir}/RadarPlotCombined.png\")"
   ]
  },
  {
   "cell_type": "code",
   "execution_count": 8,
   "metadata": {},
   "outputs": [],
   "source": [
    "# Generating radar plot for each dataset.\n",
    "attributes_df.loc[:, 'profiles'] = membership\n",
    "\n",
    "abcd_df = attributes_df[attributes_df.cohort == 1]\n",
    "banda_df = attributes_df[attributes_df.cohort == 2]\n",
    "geste_df = attributes_df[attributes_df.cohort == 3]\n",
    "\n",
    "radar_plot(abcd_df.loc[:, vars], abcd_df.profiles, title='ABCD Clustering',\n",
    "           output=f\"{output_dir}/RadarPlotABCD.png\")\n",
    "radar_plot(banda_df.loc[:, vars], banda_df.profiles, title='BANDA Clustering',\n",
    "           output=f\"{output_dir}/RadarPlotBANDA.png\")\n",
    "radar_plot(geste_df.loc[:, vars], geste_df.profiles, title='GESTE Clustering',\n",
    "           output=f\"{output_dir}/RadarPlotGESTE.png\")"
   ]
  },
  {
   "cell_type": "markdown",
   "metadata": {},
   "source": [
    "#### **Exporting results from the one-way ANOVA between profiles on the raw cognitive and behavioral variables.**\n",
    "\n",
    "When generating the radar plot, a one-way ANOVA is computed to determine the statistical difference between profiles for each raw variable. However, results are not exported in tabular format but appended to the radar plot. The next cells will compute the ANOVA, and export the results in a table. The exported table will include results from the combined and invidual studies."
   ]
  },
  {
   "cell_type": "code",
   "execution_count": 25,
   "metadata": {},
   "outputs": [],
   "source": [
    "# Computing the ANOVA for the combined dataset.\n",
    "anova_combined = []\n",
    "for var in vars:\n",
    "    f, p = f_oneway(*[attributes_df.loc[attributes_df.profiles == i, var] for i in np.unique(attributes_df.profiles)])\n",
    "    anova_combined.append([var, f, p])\n"
   ]
  },
  {
   "cell_type": "code",
   "execution_count": 26,
   "metadata": {},
   "outputs": [],
   "source": [
    "# Computing the ANOVA for each dataset.\n",
    "anova_abcd = []\n",
    "anova_banda = []\n",
    "anova_geste = []\n",
    "\n",
    "for var in vars:\n",
    "    f, p = f_oneway(*[abcd_df.loc[abcd_df.profiles == i, var] for i in np.unique(abcd_df.profiles)])\n",
    "    anova_abcd.append([var, f, p])\n",
    "\n",
    "    f, p = f_oneway(*[banda_df.loc[banda_df.profiles == i, var] for i in np.unique(banda_df.profiles)])\n",
    "    anova_banda.append([var, f, p])\n",
    "\n",
    "    f, p = f_oneway(*[geste_df.loc[geste_df.profiles == i, var] for i in np.unique(geste_df.profiles)])\n",
    "    anova_geste.append([var, f, p])"
   ]
  },
  {
   "cell_type": "code",
   "execution_count": 27,
   "metadata": {},
   "outputs": [],
   "source": [
    "# Merging into a single Pandas DataFrame.\n",
    "anova_combined_df = pd.DataFrame(anova_combined, columns=['Variable', 'F_comb', 'p_comb'])\n",
    "anova_combined_df.set_index('Variable', inplace=True)\n",
    "anova_abcd_df = pd.DataFrame(anova_abcd, columns=['Variable', 'F_abcd', 'p_abcd'])\n",
    "anova_abcd_df.set_index('Variable', inplace=True)\n",
    "anova_banda_df = pd.DataFrame(anova_banda, columns=['Variable', 'F_banda', 'p_banda'])\n",
    "anova_banda_df.set_index('Variable', inplace=True)\n",
    "anova_geste_df = pd.DataFrame(anova_geste, columns=['Variable', 'F_geste', 'p_geste'])\n",
    "anova_geste_df.set_index('Variable', inplace=True)\n",
    "\n",
    "# Merging the DataFrames.\n",
    "anova_df = pd.concat([anova_combined_df, anova_abcd_df, anova_banda_df, anova_geste_df], axis=1)\n",
    "anova_df.to_excel(f\"{output_dir}/ANOVA_results.xlsx\")\n"
   ]
  },
  {
   "cell_type": "markdown",
   "metadata": {},
   "source": [
    "#### **Generate a Graph Network file with GESTE and BANDA data labelled.**\n",
    "\n",
    "The next cells will generate a graph network figure highlight subjects coming from the BANDA and GESTE study. The main purpose of this figure is to evaluated the distribution of both studies across the graph network. Since it is projected onto the ABCD clustering results, we want to ensure that it covers the majority of the graph, and not only specific regions."
   ]
  },
  {
   "cell_type": "code",
   "execution_count": 47,
   "metadata": {},
   "outputs": [],
   "source": [
    "# Generate colormap for the different cohorts.\n",
    "label = attributes_df['cohort'].values\n",
    "\n",
    "nodes_cmap = []\n",
    "for i in label:\n",
    "    if i == 1:\n",
    "        nodes_cmap.append(\"darkgrey\")\n",
    "    elif i == 2:\n",
    "        nodes_cmap.append(\"red\")\n",
    "    else:\n",
    "        nodes_cmap.append(\"orange\")\n",
    "\n",
    "# Create node alpha list.\n",
    "nodes_alpha = []\n",
    "for i in nodes_cmap:\n",
    "    if i == \"darkgrey\":\n",
    "        nodes_alpha.append(0.3)\n",
    "    else:\n",
    "        nodes_alpha.append(1)"
   ]
  },
  {
   "cell_type": "code",
   "execution_count": 48,
   "metadata": {},
   "outputs": [],
   "source": [
    "# Visualize the network.\n",
    "visualize_network(G, output=f'{output_dir}/NetworkCohort.png',\n",
    "                  weight='membership',\n",
    "                  subject_node_color=nodes_cmap,\n",
    "                  subject_alpha=nodes_alpha,\n",
    "                  colormap='bone',\n",
    "                  title='Cohort labelling.',\n",
    "                  legend_title='Membership Values')   "
   ]
  }
 ],
 "metadata": {
  "kernelspec": {
   "display_name": "neurostatx-BZcRfNb6-py3.11",
   "language": "python",
   "name": "python3"
  },
  "language_info": {
   "codemirror_mode": {
    "name": "ipython",
    "version": 3
   },
   "file_extension": ".py",
   "mimetype": "text/x-python",
   "name": "python",
   "nbconvert_exporter": "python",
   "pygments_lexer": "ipython3",
   "version": "3.11.8"
  }
 },
 "nbformat": 4,
 "nbformat_minor": 2
}
