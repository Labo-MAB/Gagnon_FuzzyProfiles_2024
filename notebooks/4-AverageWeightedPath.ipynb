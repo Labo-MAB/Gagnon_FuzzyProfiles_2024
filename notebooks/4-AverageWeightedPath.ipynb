{
 "cells": [
  {
   "cell_type": "markdown",
   "metadata": {},
   "source": [
    "#### **Computing the Average Weighted Path (AWP) metric.**\n",
    "\n",
    "To objectively quantify the non-random localization specific subjects (such as participants with a diagnosis), we need to compute the average weighted path metric and compare it against a null distribution (created by computing X iterations with randomly selected subjects). Then, we compute the p-value associated with this specific condition by comparing the value to the null distribution. \n",
    "\n",
    "**This process is a *REALLY* long running process (the results in Gagnon et al. have been computed on high performance computer clusters). The CLI script are detailed below, but it shouldn't be run on a local computer as it can take up to 7 days using all available resources. If you want to try it, reduce the number of iterations to maximum a 100.**\n",
    "\n",
    "The AWP will be computed using data from all studies and individually for those specific variables:\n",
    "\n",
    "1. Anxiety Disorder (AD)\n",
    "1. Attention Deficit-Hyperactivity Disorder (ADHD)\n",
    "1. Conduct Disorder (CD)\n",
    "1. Depressive Disorder (DD)\n",
    "1. Obsessive-compulsive disorder (OCD)\n",
    "1. Oppositional Defiant Disorder (ODD)\n",
    "1. Psychopathology index (at least one of the above diagnosis)"
   ]
  },
  {
   "cell_type": "code",
   "execution_count": 1,
   "metadata": {},
   "outputs": [],
   "source": [
    "# Imports\n",
    "import os\n",
    "\n",
    "from scipy.stats import false_discovery_control\n",
    "\n",
    "from neurostatx.io.utils import load_df_in_any_format"
   ]
  },
  {
   "cell_type": "code",
   "execution_count": 2,
   "metadata": {},
   "outputs": [],
   "source": [
    "# Setting up relevant paths.\n",
    "repository_path = \"/Users/anthonygagnon/code/Article-s-Code/\" # CHANGE THIS\n",
    "abcd_base_path = \"/Volumes/T7/CCPM/ABCD/Release_5.1/abcd-data-release-5.1/\" # CHANGE THIS\n",
    "geste_base_dir = \"/Volumes/T7/CCPM/GESTE/\" # CHANGE THIS\n",
    "banda_dir = '/Volumes/T7/CCPM/BANDA/BANDARelease1.1/' # CHANGE THIS\n",
    "output_folder = \"/Volumes/T7/CCPM/RESULTS_JUNE_24/\" # CHANGE THIS\n",
    "data_dir = f\"{output_folder}/fuzzyclustering/\"\n",
    "output_dir = f\"{output_folder}/awp/\"\n",
    "\n",
    "# Create output directory if it does not exist.\n",
    "if not os.path.exists(output_dir):\n",
    "    os.makedirs(output_dir)"
   ]
  },
  {
   "cell_type": "markdown",
   "metadata": {},
   "source": [
    "#### **Running the AWP computation using all studies**\n",
    "\n",
    "The following cell contains the CLI script to run in order to compute the AWP for all variables using data from the three cohorts. **As mentioned above, to test it, reduce the iterations to at least 100 and select the number of cores to use (using the --processes flag).**"
   ]
  },
  {
   "cell_type": "code",
   "execution_count": null,
   "metadata": {
    "vscode": {
     "languageId": "shellscript"
    }
   },
   "outputs": [],
   "source": [
    "# Running AWP computations using all studies.\n",
    "\n",
    "!AverageWeightedPath --in-graph \"{data_dir}/GraphNetwork.gml\" --iterations 5000 --weight membership \\\n",
    "    --method dijkstra --processes 40 --out-folder \"{output_dir}/AWP_GLOBAL/\" --label-name AD --label-name ADHD \\\n",
    "    --label-name CD --label-name DD --label-name OCD --label-name ODD --label-name PSYPATHO -v -s -f"
   ]
  },
  {
   "cell_type": "markdown",
   "metadata": {},
   "source": [
    "#### **Running the AWP computation using the ABCD cohort**\n",
    "\n",
    "The following cell contains the CLI script to run in order to compute the AWP for all variables using data from the ABCD cohort. **As mentioned above, to test it, reduce the iterations to at least 100 and select the number of cores to use (using the --processes flag).**"
   ]
  },
  {
   "cell_type": "code",
   "execution_count": null,
   "metadata": {
    "vscode": {
     "languageId": "shellscript"
    }
   },
   "outputs": [],
   "source": [
    "# Running AWP computations using the ABCD study.\n",
    "\n",
    "!AverageWeightedPath --in-graph \"{data_dir}/GraphNetwork.gml\" --cohort 1 --iterations 5000 --weight membership \\\n",
    "    --method dijkstra --processes 40 --out-folder \"{output_dir}/AWP_ABCD/\" --label-name AD --label-name ADHD \\\n",
    "    --label-name CD --label-name DD --label-name OCD --label-name ODD --label-name PSYPATHO -v -s -f"
   ]
  },
  {
   "cell_type": "markdown",
   "metadata": {},
   "source": [
    "#### **Running the AWP computation using the BANDA cohort**\n",
    "\n",
    "The following cell contains the CLI script to run in order to compute the AWP for all variables using data from the BANDA cohort. **As mentioned above, to test it, reduce the iterations to at least 100 and select the number of cores to use (using the --processes flag).**"
   ]
  },
  {
   "cell_type": "code",
   "execution_count": null,
   "metadata": {
    "vscode": {
     "languageId": "shellscript"
    }
   },
   "outputs": [],
   "source": [
    "# Running AWP computations using the BANDA study.\n",
    "\n",
    "!AverageWeightedPath --in-graph \"{data_dir}/GraphNetwork.gml\" --cohort 2 --iterations 5000 --weight membership \\\n",
    "    --method dijkstra --processes 40 --out-folder \"{output_dir}/AWP_BANDA/\" --label-name AD --label-name ADHD \\\n",
    "    --label-name DD --label-name OCD --label-name ODD --label-name PSYPATHO -v -s -f"
   ]
  },
  {
   "cell_type": "markdown",
   "metadata": {},
   "source": [
    "#### **Running the AWP computation using the GESTE cohort**\n",
    "\n",
    "The following cell contains the CLI script to run in order to compute the AWP for all variables using data from the GESTE cohort. **As mentioned above, to test it, reduce the iterations to at least 100 and select the number of cores to use (using the --processes flag).**"
   ]
  },
  {
   "cell_type": "code",
   "execution_count": null,
   "metadata": {
    "vscode": {
     "languageId": "shellscript"
    }
   },
   "outputs": [],
   "source": [
    "# Running AWP computations using the GESTE study.\n",
    "\n",
    "!AverageWeightedPath --in-graph \"{data_dir}/GraphNetwork.gml\" --cohort 3 --iterations 5000 --weight membership \\\n",
    "    --method dijkstra --processes 40 --out-folder \"{output_dir}/AWP_GESTE/\" --label-name ADHD \\\n",
    "    --label-name PSYPATHO -v -s -f"
   ]
  },
  {
   "cell_type": "markdown",
   "metadata": {},
   "source": [
    "#### **Load back the results to apply FDR correction.**\n",
    "\n",
    "Since we are performing a lot of statistical test (one for each diagnosis), we will correct the resulting p-values using the Benjamini-Hochberg [1] method. \n",
    "\n",
    "[1] Benjamini, Yoav, and Yosef Hochberg. “Controlling the false discovery rate: a practical and powerful approach to multiple testing.” Journal of the Royal statistical society: series B (Methodological) 57.1 (1995): 289-300."
   ]
  },
  {
   "cell_type": "code",
   "execution_count": 17,
   "metadata": {
    "vscode": {
     "languageId": "shellscript"
    }
   },
   "outputs": [],
   "source": [
    "# For the global AWP computations.\n",
    "# Load back the computed AWP values. Since they are in different files, we need to load them separately, append the p-values to a list, perform FDR correction, and append them to the original data frame. This will be done using 2 for loops (not the most efficient way, but it works).\n",
    "diagnosis = ['AD', 'ADHD', 'CD', 'DD', 'OCD', 'ODD', 'PSYPATHO']\n",
    "\n",
    "pvals = []\n",
    "for dx in diagnosis:\n",
    "    results = load_df_in_any_format(f'{output_dir}/AWP_GLOBAL/statistics_{dx}.xlsx')\n",
    "    pvals.append(results.iloc[1, 1])\n",
    "\n",
    "# Perform FDR correction.\n",
    "pval_corrected = false_discovery_control(pvals, method='bh')\n",
    "\n",
    "# Append the corrected p-values to the original data frame.\n",
    "for i, dx in enumerate(diagnosis):\n",
    "    results = load_df_in_any_format(f'{output_dir}/AWP_GLOBAL/statistics_{dx}.xlsx')\n",
    "    results.columns = ['Index', 'Statistics']\n",
    "    results.set_index('Index', inplace=True)\n",
    "    results.loc['FDR-corrected pval'] = pval_corrected[i]\n",
    "    results.to_excel(f'{output_dir}/AWP_GLOBAL/statistics_{dx}.xlsx', index=True,\n",
    "                     header=True)"
   ]
  },
  {
   "cell_type": "code",
   "execution_count": null,
   "metadata": {
    "vscode": {
     "languageId": "shellscript"
    }
   },
   "outputs": [],
   "source": [
    "# For the ABCD study.\n",
    "# Load back the computed AWP values. Since they are in different files, we need to load them separately, append the p-values to a list, perform FDR correction, and append them to the original data frame. This will be done using 2 for loops (not the most efficient way, but it works).\n",
    "diagnosis = ['AD', 'ADHD', 'CD', 'DD', 'OCD', 'ODD', 'PSYPATHO']\n",
    "\n",
    "pvals = []\n",
    "for dx in diagnosis:\n",
    "    results = load_df_in_any_format(f'{output_dir}/AWP_ABCD/statistics_{dx}.xlsx')\n",
    "    pvals.append(results.iloc[1, 1])\n",
    "\n",
    "# Perform FDR correction.\n",
    "pval_corrected = false_discovery_control(pvals, method='bh')\n",
    "\n",
    "# Append the corrected p-values to the original data frame.\n",
    "for i, dx in enumerate(diagnosis):\n",
    "    results = load_df_in_any_format(f'{output_dir}/AWP_ABCD/statistics_{dx}.xlsx')\n",
    "    results.columns = ['Index', 'Statistics']\n",
    "    results.set_index('Index', inplace=True)\n",
    "    results.loc['FDR-corrected pval'] = pval_corrected[i]\n",
    "    results.to_excel(f'{output_dir}/AWP_ABCD/statistics_{dx}.xlsx', index=True,\n",
    "                     header=True)"
   ]
  },
  {
   "cell_type": "code",
   "execution_count": 18,
   "metadata": {
    "vscode": {
     "languageId": "shellscript"
    }
   },
   "outputs": [],
   "source": [
    "# For the BANDA study.\n",
    "# Load back the computed AWP values. Since they are in different files, we need to load them separately, append the p-values to a list, perform FDR correction, and append them to the original data frame. This will be done using 2 for loops (not the most efficient way, but it works).\n",
    "diagnosis = ['AD', 'ADHD', 'DD', 'OCD', 'ODD', 'PSYPATHO']\n",
    "\n",
    "pvals = []\n",
    "for dx in diagnosis:\n",
    "    results = load_df_in_any_format(f'{output_dir}/AWP_BANDA/statistics_{dx}.xlsx')\n",
    "    pvals.append(results.iloc[1, 1])\n",
    "\n",
    "# Perform FDR correction.\n",
    "pval_corrected = false_discovery_control(pvals, method='bh')\n",
    "\n",
    "# Append the corrected p-values to the original data frame.\n",
    "for i, dx in enumerate(diagnosis):\n",
    "    results = load_df_in_any_format(f'{output_dir}/AWP_BANDA/statistics_{dx}.xlsx')\n",
    "    results.columns = ['Index', 'Statistics']\n",
    "    results.set_index('Index', inplace=True)\n",
    "    results.loc['FDR-corrected pval'] = pval_corrected[i]\n",
    "    results.to_excel(f'{output_dir}/AWP_BANDA/statistics_{dx}.xlsx', index=True,\n",
    "                     header=True)"
   ]
  },
  {
   "cell_type": "code",
   "execution_count": 19,
   "metadata": {
    "vscode": {
     "languageId": "shellscript"
    }
   },
   "outputs": [],
   "source": [
    "# For the GESTE study.\n",
    "# Load back the computed AWP values. Since they are in different files, we need to load them separately, append the p-values to a list, perform FDR correction, and append them to the original data frame. This will be done using 2 for loops (not the most efficient way, but it works).\n",
    "diagnosis = ['ADHD', 'PSYPATHO']\n",
    "\n",
    "pvals = []\n",
    "for dx in diagnosis:\n",
    "    results = load_df_in_any_format(f'{output_dir}/AWP_GESTE/statistics_{dx}.xlsx')\n",
    "    pvals.append(results.iloc[1, 1])\n",
    "\n",
    "# Perform FDR correction.\n",
    "pval_corrected = false_discovery_control(pvals, method='bh')\n",
    "\n",
    "# Append the corrected p-values to the original data frame.\n",
    "for i, dx in enumerate(diagnosis):\n",
    "    results = load_df_in_any_format(f'{output_dir}/AWP_GESTE/statistics_{dx}.xlsx')\n",
    "    results.columns = ['Index', 'Statistics']\n",
    "    results.set_index('Index', inplace=True)\n",
    "    results.loc['FDR-corrected pval'] = pval_corrected[i]\n",
    "    results.to_excel(f'{output_dir}/AWP_GESTE/statistics_{dx}.xlsx', index=True,\n",
    "                     header=True)"
   ]
  }
 ],
 "metadata": {
  "kernelspec": {
   "display_name": "neurostatx-BZcRfNb6-py3.11",
   "language": "python",
   "name": "python3"
  },
  "language_info": {
   "codemirror_mode": {
    "name": "ipython",
    "version": 3
   },
   "file_extension": ".py",
   "mimetype": "text/x-python",
   "name": "python",
   "nbconvert_exporter": "python",
   "pygments_lexer": "ipython3",
   "version": "3.11.8"
  }
 },
 "nbformat": 4,
 "nbformat_minor": 2
}
