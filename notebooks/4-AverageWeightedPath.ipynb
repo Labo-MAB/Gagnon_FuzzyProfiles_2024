{
 "cells": [
  {
   "cell_type": "markdown",
   "metadata": {},
   "source": [
    "#### **Computing the Average Weighted Path (AWP) metric.**\n",
    "\n",
    "To objectively quantify the non-random localization specific subjects (such as participants with a diagnosis), we need to compute the average weighted path metric and compare it against a null distribution (created by computing X iterations with randomly selected subjects). Then, we compute the p-value associated with this specific condition by comparing the value to the null distribution. \n",
    "\n",
    "**This process is a *REALLY* long running process (the results in Gagnon et al. have been computed on high performance computer clusters). The CLI script are detailed below, but it shouldn't be run on a local computer as it can take up to 7 days using all available resources. If you want to try it, reduce the number of iterations to maximum a 100.**\n",
    "\n",
    "The AWP will be computed using data from all studies and individually for those specific variables:\n",
    "\n",
    "1. Anxiety Disorder (AD)\n",
    "1. Attention Deficit-Hyperactivity Disorder (ADHD)\n",
    "1. Conduct Disorder (CD)\n",
    "1. Depressive Disorder (DD)\n",
    "1. Obsessive-compulsive disorder (OCD)\n",
    "1. Oppositional Defiant Disorder (ODD)\n",
    "1. Psychopathology index (at least one of the above diagnosis)"
   ]
  },
  {
   "cell_type": "code",
   "execution_count": 33,
   "metadata": {},
   "outputs": [],
   "source": [
    "# Imports\n",
    "import os\n",
    "\n",
    "import matplotlib.pyplot as plt\n",
    "import matplotlib.patches as mpatches\n",
    "import networkx as nx\n",
    "import numpy as np\n",
    "import pandas as pd\n",
    "import seaborn as sns\n",
    "from scipy.stats import false_discovery_control\n",
    "\n",
    "from neurostatx.io.utils import load_df_in_any_format\n",
    "from neurostatx.network.utils import fetch_attributes_df, fetch_edge_data"
   ]
  },
  {
   "cell_type": "code",
   "execution_count": 3,
   "metadata": {},
   "outputs": [],
   "source": [
    "# Setting up relevant paths.\n",
    "repository_path = \"/Users/anthonygagnon/code/Article-s-Code/\" # CHANGE THIS\n",
    "abcd_base_path = \"/Volumes/T7/CCPM/ABCD/Release_5.1/abcd-data-release-5.1/\" # CHANGE THIS\n",
    "geste_base_dir = \"/Volumes/T7/CCPM/GESTE/\" # CHANGE THIS\n",
    "banda_dir = '/Volumes/T7/CCPM/BANDA/BANDARelease1.1/' # CHANGE THIS\n",
    "output_folder = \"/Volumes/T7/CCPM/RESULTS_JUNE_24/\" # CHANGE THIS\n",
    "data_dir = f\"{output_folder}/fuzzyclustering/\"\n",
    "output_dir = f\"{output_folder}/awp/\"\n",
    "\n",
    "# Create output directory if it does not exist.\n",
    "if not os.path.exists(output_dir):\n",
    "    os.makedirs(output_dir)"
   ]
  },
  {
   "cell_type": "markdown",
   "metadata": {},
   "source": [
    "#### **Running the AWP computation using all studies**\n",
    "\n",
    "The following cell contains the CLI script to run in order to compute the AWP for all variables using data from the three cohorts. **As mentioned above, to test it, reduce the iterations to at least 100 and select the number of cores to use (using the --processes flag).**"
   ]
  },
  {
   "cell_type": "code",
   "execution_count": null,
   "metadata": {
    "vscode": {
     "languageId": "shellscript"
    }
   },
   "outputs": [],
   "source": [
    "# Running AWP computations using all studies.\n",
    "\n",
    "!AverageWeightedPath --in-graph \"{data_dir}/GraphNetwork.gml\" --iterations 5000 --weight membership \\\n",
    "    --method dijkstra --processes 40 --out-folder \"{output_dir}/AWP_GLOBAL/\" --label-name AD --label-name ADHD \\\n",
    "    --label-name CD --label-name DD --label-name OCD --label-name ODD --label-name PSYPATHO -v -s -f"
   ]
  },
  {
   "cell_type": "markdown",
   "metadata": {},
   "source": [
    "#### **Running the AWP computation using the ABCD cohort**\n",
    "\n",
    "The following cell contains the CLI script to run in order to compute the AWP for all variables using data from the ABCD cohort. **As mentioned above, to test it, reduce the iterations to at least 100 and select the number of cores to use (using the --processes flag).**"
   ]
  },
  {
   "cell_type": "code",
   "execution_count": null,
   "metadata": {
    "vscode": {
     "languageId": "shellscript"
    }
   },
   "outputs": [],
   "source": [
    "# Running AWP computations using the ABCD study.\n",
    "\n",
    "!AverageWeightedPath --in-graph \"{data_dir}/GraphNetwork.gml\" --cohort 1 --iterations 5000 --weight membership \\\n",
    "    --method dijkstra --processes 40 --out-folder \"{output_dir}/AWP_ABCD/\" --label-name AD --label-name ADHD \\\n",
    "    --label-name CD --label-name DD --label-name OCD --label-name ODD --label-name PSYPATHO -v -s -f"
   ]
  },
  {
   "cell_type": "markdown",
   "metadata": {},
   "source": [
    "#### **Running the AWP computation using the BANDA cohort**\n",
    "\n",
    "The following cell contains the CLI script to run in order to compute the AWP for all variables using data from the BANDA cohort. **As mentioned above, to test it, reduce the iterations to at least 100 and select the number of cores to use (using the --processes flag).**"
   ]
  },
  {
   "cell_type": "code",
   "execution_count": null,
   "metadata": {
    "vscode": {
     "languageId": "shellscript"
    }
   },
   "outputs": [],
   "source": [
    "# Running AWP computations using the BANDA study.\n",
    "\n",
    "!AverageWeightedPath --in-graph \"{data_dir}/GraphNetwork.gml\" --cohort 2 --iterations 5000 --weight membership \\\n",
    "    --method dijkstra --processes 40 --out-folder \"{output_dir}/AWP_BANDA/\" --label-name AD --label-name ADHD \\\n",
    "    --label-name DD --label-name OCD --label-name ODD --label-name PSYPATHO -v -s -f"
   ]
  },
  {
   "cell_type": "markdown",
   "metadata": {},
   "source": [
    "#### **Running the AWP computation using the GESTE cohort**\n",
    "\n",
    "The following cell contains the CLI script to run in order to compute the AWP for all variables using data from the GESTE cohort. **As mentioned above, to test it, reduce the iterations to at least 100 and select the number of cores to use (using the --processes flag).**"
   ]
  },
  {
   "cell_type": "code",
   "execution_count": null,
   "metadata": {
    "vscode": {
     "languageId": "shellscript"
    }
   },
   "outputs": [],
   "source": [
    "# Running AWP computations using the GESTE study.\n",
    "\n",
    "!AverageWeightedPath --in-graph \"{data_dir}/GraphNetwork.gml\" --cohort 3 --iterations 5000 --weight membership \\\n",
    "    --method dijkstra --processes 40 --out-folder \"{output_dir}/AWP_GESTE/\" --label-name ADHD \\\n",
    "    --label-name PSYPATHO -v -s -f"
   ]
  },
  {
   "cell_type": "markdown",
   "metadata": {},
   "source": [
    "#### **Load back the results to apply FDR correction.**\n",
    "\n",
    "Since we are performing a lot of statistical test (one for each diagnosis), we will correct the resulting p-values using the Benjamini-Hochberg [1] method. \n",
    "\n",
    "[1] Benjamini, Yoav, and Yosef Hochberg. “Controlling the false discovery rate: a practical and powerful approach to multiple testing.” Journal of the Royal statistical society: series B (Methodological) 57.1 (1995): 289-300."
   ]
  },
  {
   "cell_type": "code",
   "execution_count": null,
   "metadata": {},
   "outputs": [],
   "source": [
    "# For the global AWP computations.\n",
    "# Load back the computed AWP values. Since they are in different files, we need to load them separately, append the p-values to a list, perform FDR correction, and append them to the original data frame. This will be done using 2 for loops (not the most efficient way, but it works).\n",
    "diagnosis = ['AD', 'ADHD', 'CD', 'DD', 'OCD', 'ODD', 'PSYPATHO']\n",
    "\n",
    "pvals = []\n",
    "for dx in diagnosis:\n",
    "    results = load_df_in_any_format(f'{output_dir}/AWP_GLOBAL/statistics_{dx}.xlsx')\n",
    "    pvals.append(results.iloc[1, 1])\n",
    "\n",
    "# Perform FDR correction.\n",
    "pval_corrected = false_discovery_control(pvals, method='bh')\n",
    "\n",
    "# Append the corrected p-values to the original data frame.\n",
    "for i, dx in enumerate(diagnosis):\n",
    "    results = load_df_in_any_format(f'{output_dir}/AWP_GLOBAL/statistics_{dx}.xlsx')\n",
    "    results.columns = ['Index', 'Statistics']\n",
    "    results.set_index('Index', inplace=True)\n",
    "    results.loc['FDR-corrected pval'] = pval_corrected[i]\n",
    "    results.to_excel(f'{output_dir}/AWP_GLOBAL/statistics_{dx}.xlsx', index=True,\n",
    "                     header=True)"
   ]
  },
  {
   "cell_type": "code",
   "execution_count": 5,
   "metadata": {},
   "outputs": [],
   "source": [
    "# For the ABCD study.\n",
    "# Load back the computed AWP values. Since they are in different files, we need to load them separately, append the p-values to a list, perform FDR correction, and append them to the original data frame. This will be done using 2 for loops (not the most efficient way, but it works).\n",
    "diagnosis = ['AD', 'ADHD', 'CD', 'DD', 'OCD', 'ODD', 'PSYPATHO']\n",
    "\n",
    "pvals = []\n",
    "for dx in diagnosis:\n",
    "    results = load_df_in_any_format(f'{output_dir}/AWP_ABCD/statistics_{dx}.xlsx')\n",
    "    pvals.append(results.iloc[1, 1])\n",
    "\n",
    "# Perform FDR correction.\n",
    "pval_corrected = false_discovery_control(pvals, method='bh')\n",
    "\n",
    "# Append the corrected p-values to the original data frame.\n",
    "for i, dx in enumerate(diagnosis):\n",
    "    results = load_df_in_any_format(f'{output_dir}/AWP_ABCD/statistics_{dx}.xlsx')\n",
    "    results.columns = ['Index', 'Statistics']\n",
    "    results.set_index('Index', inplace=True)\n",
    "    results.loc['FDR-corrected pval'] = pval_corrected[i]\n",
    "    results.to_excel(f'{output_dir}/AWP_ABCD/statistics_{dx}.xlsx', index=True,\n",
    "                     header=True)"
   ]
  },
  {
   "cell_type": "code",
   "execution_count": 6,
   "metadata": {},
   "outputs": [],
   "source": [
    "# For the BANDA study.\n",
    "# Load back the computed AWP values. Since they are in different files, we need to load them separately, append the p-values to a list, perform FDR correction, and append them to the original data frame. This will be done using 2 for loops (not the most efficient way, but it works).\n",
    "diagnosis = ['AD', 'ADHD', 'DD', 'OCD', 'ODD', 'PSYPATHO']\n",
    "\n",
    "pvals = []\n",
    "for dx in diagnosis:\n",
    "    results = load_df_in_any_format(f'{output_dir}/AWP_BANDA/statistics_{dx}.xlsx')\n",
    "    pvals.append(results.iloc[1, 1])\n",
    "\n",
    "# Perform FDR correction.\n",
    "pval_corrected = false_discovery_control(pvals, method='bh')\n",
    "\n",
    "# Append the corrected p-values to the original data frame.\n",
    "for i, dx in enumerate(diagnosis):\n",
    "    results = load_df_in_any_format(f'{output_dir}/AWP_BANDA/statistics_{dx}.xlsx')\n",
    "    results.columns = ['Index', 'Statistics']\n",
    "    results.set_index('Index', inplace=True)\n",
    "    results.loc['FDR-corrected pval'] = pval_corrected[i]\n",
    "    results.to_excel(f'{output_dir}/AWP_BANDA/statistics_{dx}.xlsx', index=True,\n",
    "                     header=True)"
   ]
  },
  {
   "cell_type": "code",
   "execution_count": 7,
   "metadata": {},
   "outputs": [],
   "source": [
    "# For the GESTE study.\n",
    "# Load back the computed AWP values. Since they are in different files, we need to load them separately, append the p-values to a list, perform FDR correction, and append them to the original data frame. This will be done using 2 for loops (not the most efficient way, but it works).\n",
    "diagnosis = ['ADHD', 'PSYPATHO']\n",
    "\n",
    "pvals = []\n",
    "for dx in diagnosis:\n",
    "    results = load_df_in_any_format(f'{output_dir}/AWP_GESTE/statistics_{dx}.xlsx')\n",
    "    pvals.append(results.iloc[1, 1])\n",
    "\n",
    "# Perform FDR correction.\n",
    "pval_corrected = false_discovery_control(pvals, method='bh')\n",
    "\n",
    "# Append the corrected p-values to the original data frame.\n",
    "for i, dx in enumerate(diagnosis):\n",
    "    results = load_df_in_any_format(f'{output_dir}/AWP_GESTE/statistics_{dx}.xlsx')\n",
    "    results.columns = ['Index', 'Statistics']\n",
    "    results.set_index('Index', inplace=True)\n",
    "    results.loc['FDR-corrected pval'] = pval_corrected[i]\n",
    "    results.to_excel(f'{output_dir}/AWP_GESTE/statistics_{dx}.xlsx', index=True,\n",
    "                     header=True)"
   ]
  },
  {
   "cell_type": "markdown",
   "metadata": {},
   "source": [
    "#### **Computing the Average Weighted Path (AWP) metric for KSADS youth data in the ABCD cohort.**\n",
    "\n",
    "To objectively quantify the non-random localization specific subjects (such as participants with a diagnosis), we need to compute the average weighted path metric and compare it against a null distribution (created by computing X iterations with randomly selected subjects). Then, we compute the p-value associated with this specific condition by comparing the value to the null distribution. \n",
    "\n",
    "**This process is a *REALLY* long running process (the results in Gagnon et al. have been computed on high performance computer clusters). The CLI script are detailed below, but it shouldn't be run on a local computer as it can take up to 7 days using all available resources. If you want to try it, reduce the number of iterations to maximum a 100.**\n",
    "\n",
    "The AWP will be computed using youth KSADS data from ABCD and individually for those specific variables:\n",
    "\n",
    "1. Anxiety Disorder (AD)\n",
    "1. Depressive Disorder (DD)"
   ]
  },
  {
   "cell_type": "code",
   "execution_count": 4,
   "metadata": {
    "vscode": {
     "languageId": "shellscript"
    }
   },
   "outputs": [
    {
     "name": "stdout",
     "output_type": "stream",
     "text": [
      "/Users/anthonygagnon/code/Article-s-Code//scripts/generate_dx_ABCD_youth.py:53: DtypeWarning: Columns (2,956,1286,1287) have mixed types. Specify dtype option on import or set low_memory=False.\n",
      "  df_ksads = pd.read_csv(\n"
     ]
    }
   ],
   "source": [
    "# Fetch diagnosis labels for the youth data.\n",
    "!python {repository_path}/scripts/generate_dx_ABCD_youth.py --in-root-folder {abcd_base_path} --output {output_dir}/ABCD_youth_dx.xlsx"
   ]
  },
  {
   "cell_type": "code",
   "execution_count": 15,
   "metadata": {},
   "outputs": [],
   "source": [
    "# Load back the youth KSADS label and compute a PSYPATHO label.\n",
    "abcd_youth_ksads = load_df_in_any_format(f'{output_dir}/ABCD_youth_dx.xlsx')\n",
    "\n",
    "abcd_youth_ksads.loc[:, \"PSYPATHO_youth\"] = abcd_youth_ksads.iloc[:, 1:].sum(axis=1).apply(lambda x: 1 if x > 0 else 0)\n",
    "\n",
    "abcd_youth_ksads.to_excel(f'{output_dir}/ABCD_youth_dx.xlsx', index=False, header=True)"
   ]
  },
  {
   "cell_type": "code",
   "execution_count": 17,
   "metadata": {
    "vscode": {
     "languageId": "shellscript"
    }
   },
   "outputs": [
    {
     "name": "stdout",
     "output_type": "stream",
     "text": [
      "\u001b[32m2024-11-11 13:57:50\u001b[0m \u001b[35mAnthonys-MacBook-Pro.local\u001b[0m \u001b[34mroot[11043]\u001b[0m \u001b[1;30mINFO\u001b[0m Loading graph and dataset.\n",
      "\u001b[32m2024-11-11 13:57:53\u001b[0m \u001b[35mAnthonys-MacBook-Pro.local\u001b[0m \u001b[34mroot[11043]\u001b[0m \u001b[1;30mINFO\u001b[0m Constructing dictionary of attributes to add.\n",
      "\u001b[32m2024-11-11 13:57:53\u001b[0m \u001b[35mAnthonys-MacBook-Pro.local\u001b[0m \u001b[34mroot[11043]\u001b[0m \u001b[1;30mINFO\u001b[0m Adding attributes to graph.\n",
      "\u001b[32m2024-11-11 13:57:53\u001b[0m \u001b[35mAnthonys-MacBook-Pro.local\u001b[0m \u001b[34mroot[11043]\u001b[0m \u001b[1;30mINFO\u001b[0m Saving graph.\n"
     ]
    }
   ],
   "source": [
    "# Add new youth diagnosis to the Graph Network file.\n",
    "!AddNodesAttributes --in-graph \"{data_dir}/GraphNetwork.gml\" \\\n",
    "    --in-dataset \"{output_dir}/ABCD_youth_dx.xlsx\" \\\n",
    "    --labels AD_youth --labels DD_youth --labels PSYPATHO_youth \\\n",
    "    --id-column subjectkey \\\n",
    "    --out-file \"{output_dir}/GraphNetwork_youth.gml\" \\\n",
    "    -v -f"
   ]
  },
  {
   "cell_type": "markdown",
   "metadata": {},
   "source": [
    "#### **Running the AWP computation using the ABCD cohort with youth diagnosis data.**\n",
    "\n",
    "The following cell contains the CLI script to run in order to compute the AWP for all variables using data from the ABCD cohort. **As mentioned above, to test it, reduce the iterations to at least 100 and select the number of cores to use (using the --processes flag).**"
   ]
  },
  {
   "cell_type": "code",
   "execution_count": 18,
   "metadata": {
    "vscode": {
     "languageId": "shellscript"
    }
   },
   "outputs": [
    {
     "name": "stdout",
     "output_type": "stream",
     "text": [
      "\u001b[32m2024-11-11 13:58:13\u001b[0m \u001b[35mAnthonys-MacBook-Pro.local\u001b[0m \u001b[34mroot[11355]\u001b[0m \u001b[1;30mINFO\u001b[0m Loading graph.\n",
      "\u001b[32m2024-11-11 13:58:16\u001b[0m \u001b[35mAnthonys-MacBook-Pro.local\u001b[0m \u001b[34mroot[11355]\u001b[0m \u001b[1;30mINFO\u001b[0m Computing average weighted path for variable : AD_youth\n",
      "\u001b[32m2024-11-11 13:58:17\u001b[0m \u001b[35mAnthonys-MacBook-Pro.local\u001b[0m \u001b[34mroot[11355]\u001b[0m \u001b[1;30mINFO\u001b[0m Computing weighted path for the set of nodes.\n",
      "\u001b[32m2024-11-11 13:58:17\u001b[0m \u001b[35mAnthonys-MacBook-Pro.local\u001b[0m \u001b[34mroot[11355]\u001b[0m \u001b[1;30mINFO\u001b[0m Computing null distribution.\n",
      "100%|█████████████████████████████████████| 5000/5000 [1:50:21<00:00,  1.32s/it]\n",
      "\u001b[32m2024-11-11 15:48:41\u001b[0m \u001b[35mAnthonys-MacBook-Pro.local\u001b[0m \u001b[34mroot[11355]\u001b[0m \u001b[1;30mINFO\u001b[0m Computing average weighted path for variable : DD_youth\n",
      "\u001b[32m2024-11-11 15:48:42\u001b[0m \u001b[35mAnthonys-MacBook-Pro.local\u001b[0m \u001b[34mroot[11355]\u001b[0m \u001b[1;30mINFO\u001b[0m Computing weighted path for the set of nodes.\n",
      "\u001b[32m2024-11-11 15:48:42\u001b[0m \u001b[35mAnthonys-MacBook-Pro.local\u001b[0m \u001b[34mroot[11355]\u001b[0m \u001b[1;30mINFO\u001b[0m Computing null distribution.\n",
      "100%|█████████████████████████████████████| 5000/5000 [1:50:02<00:00,  1.32s/it]\n",
      "\u001b[32m2024-11-11 17:38:46\u001b[0m \u001b[35mAnthonys-MacBook-Pro.local\u001b[0m \u001b[34mroot[11355]\u001b[0m \u001b[1;30mINFO\u001b[0m Computing average weighted path for variable : PSYPATHO_youth\n",
      "\u001b[32m2024-11-11 17:38:46\u001b[0m \u001b[35mAnthonys-MacBook-Pro.local\u001b[0m \u001b[34mroot[11355]\u001b[0m \u001b[1;30mINFO\u001b[0m Computing weighted path for the set of nodes.\n",
      "\u001b[32m2024-11-11 17:38:47\u001b[0m \u001b[35mAnthonys-MacBook-Pro.local\u001b[0m \u001b[34mroot[11355]\u001b[0m \u001b[1;30mINFO\u001b[0m Computing null distribution.\n",
      "100%|█████████████████████████████████████| 5000/5000 [1:49:06<00:00,  1.31s/it]\n"
     ]
    }
   ],
   "source": [
    "# Running AWP computations using the ABCD youth data.\n",
    "!AverageWeightedPath --in-graph \"{output_dir}/GraphNetwork_youth.gml\" --cohort 1 --iterations 5000 --weight membership \\\n",
    "    --method dijkstra --processes 8 --out-folder \"{output_dir}/AWP_ABCD_youth/\" --label-name AD_youth --label-name DD_youth \\\n",
    "    --label-name PSYPATHO_youth -v -s -f"
   ]
  },
  {
   "cell_type": "code",
   "execution_count": 19,
   "metadata": {},
   "outputs": [],
   "source": [
    "# Compute the fdr correction for the AWP results.\n",
    "diagnosis = ['AD_youth', 'DD_youth', 'PSYPATHO_youth']\n",
    "\n",
    "pvals = []\n",
    "for dx in diagnosis:\n",
    "    results = load_df_in_any_format(f'{output_dir}/AWP_ABCD_youth/statistics_{dx}.xlsx')\n",
    "    pvals.append(results.iloc[1, 1])\n",
    "\n",
    "# Perform FDR correction.\n",
    "pval_corrected = false_discovery_control(pvals, method='bh')\n",
    "\n",
    "# Append the corrected p-values to the original data frame.\n",
    "for i, dx in enumerate(diagnosis):\n",
    "    results = load_df_in_any_format(f'{output_dir}/AWP_ABCD_youth/statistics_{dx}.xlsx')\n",
    "    results.columns = ['Index', 'Statistics']\n",
    "    results.set_index('Index', inplace=True)\n",
    "    results.loc['FDR-corrected pval'] = pval_corrected[i]\n",
    "    results.to_excel(f'{output_dir}/AWP_ABCD_youth/statistics_{dx}.xlsx', index=True,\n",
    "                     header=True)"
   ]
  },
  {
   "cell_type": "code",
   "execution_count": 56,
   "metadata": {},
   "outputs": [],
   "source": [
    "# Fetch the graph network with youth data.\n",
    "G = nx.read_gml(f\"{output_dir}/GraphNetwork_youth.gml\")\n",
    "\n",
    "# Fetch the membership and attributes of the youth data.\n",
    "attributes_df = fetch_attributes_df(G, attributes='')\n",
    "edges_df = fetch_edge_data(G)\n",
    "\n",
    "# Fetching highest membership value for each node.\n",
    "attributes_df.loc[:, 'profiles'] = np.argmax(edges_df.values, axis=1) + 1\n",
    "\n",
    "# Isolating ABCD data.\n",
    "abcd_df = attributes_df[attributes_df['cohort'] == 1]"
   ]
  },
  {
   "cell_type": "code",
   "execution_count": 57,
   "metadata": {},
   "outputs": [],
   "source": [
    "# Computing percentage for the abcd dataset with youth diagnosis.\n",
    "abcd_perc = []\n",
    "for dx in ['AD_youth', 'DD_youth']:\n",
    "    for profile in np.unique(abcd_df[['profiles']]):\n",
    "        profile_df = abcd_df[abcd_df['profiles'] == profile]\n",
    "        abcd_perc.append(profile_df[profile_df.loc[:, dx] == 1][dx].sum() / abcd_df[dx].sum() * 100)"
   ]
  },
  {
   "cell_type": "code",
   "execution_count": 58,
   "metadata": {},
   "outputs": [],
   "source": [
    "# Setting the DataFrame vertically\n",
    "abcd_perc_v = pd.DataFrame(np.array(abcd_perc),\n",
    "                    columns=['values'],\n",
    "                    index=['MC/HSI (c1)', 'MC/HE (c2)', 'HC/LB (c3)', 'LC/LB (c4)'] * 2)\n",
    "abcd_perc_v['group'] = np.repeat(['AD', 'DD'], 4)\n",
    "abcd_perc_v['cohort'] = 'ABCD'"
   ]
  },
  {
   "cell_type": "code",
   "execution_count": 59,
   "metadata": {},
   "outputs": [
    {
     "data": {
      "text/html": [
       "<div>\n",
       "<style scoped>\n",
       "    .dataframe tbody tr th:only-of-type {\n",
       "        vertical-align: middle;\n",
       "    }\n",
       "\n",
       "    .dataframe tbody tr th {\n",
       "        vertical-align: top;\n",
       "    }\n",
       "\n",
       "    .dataframe thead th {\n",
       "        text-align: right;\n",
       "    }\n",
       "</style>\n",
       "<table border=\"1\" class=\"dataframe\">\n",
       "  <thead>\n",
       "    <tr style=\"text-align: right;\">\n",
       "      <th></th>\n",
       "      <th>values</th>\n",
       "      <th>group</th>\n",
       "      <th>cohort</th>\n",
       "    </tr>\n",
       "  </thead>\n",
       "  <tbody>\n",
       "    <tr>\n",
       "      <th>MC/HSI (c1)</th>\n",
       "      <td>39.062500</td>\n",
       "      <td>AD</td>\n",
       "      <td>ABCD</td>\n",
       "    </tr>\n",
       "    <tr>\n",
       "      <th>MC/HE (c2)</th>\n",
       "      <td>18.750000</td>\n",
       "      <td>AD</td>\n",
       "      <td>ABCD</td>\n",
       "    </tr>\n",
       "    <tr>\n",
       "      <th>HC/LB (c3)</th>\n",
       "      <td>21.875000</td>\n",
       "      <td>AD</td>\n",
       "      <td>ABCD</td>\n",
       "    </tr>\n",
       "    <tr>\n",
       "      <th>LC/LB (c4)</th>\n",
       "      <td>20.312500</td>\n",
       "      <td>AD</td>\n",
       "      <td>ABCD</td>\n",
       "    </tr>\n",
       "    <tr>\n",
       "      <th>MC/HSI (c1)</th>\n",
       "      <td>25.301205</td>\n",
       "      <td>DD</td>\n",
       "      <td>ABCD</td>\n",
       "    </tr>\n",
       "    <tr>\n",
       "      <th>MC/HE (c2)</th>\n",
       "      <td>24.096386</td>\n",
       "      <td>DD</td>\n",
       "      <td>ABCD</td>\n",
       "    </tr>\n",
       "    <tr>\n",
       "      <th>HC/LB (c3)</th>\n",
       "      <td>14.457831</td>\n",
       "      <td>DD</td>\n",
       "      <td>ABCD</td>\n",
       "    </tr>\n",
       "    <tr>\n",
       "      <th>LC/LB (c4)</th>\n",
       "      <td>36.144578</td>\n",
       "      <td>DD</td>\n",
       "      <td>ABCD</td>\n",
       "    </tr>\n",
       "  </tbody>\n",
       "</table>\n",
       "</div>"
      ],
      "text/plain": [
       "                values group cohort\n",
       "MC/HSI (c1)  39.062500    AD   ABCD\n",
       "MC/HE (c2)   18.750000    AD   ABCD\n",
       "HC/LB (c3)   21.875000    AD   ABCD\n",
       "LC/LB (c4)   20.312500    AD   ABCD\n",
       "MC/HSI (c1)  25.301205    DD   ABCD\n",
       "MC/HE (c2)   24.096386    DD   ABCD\n",
       "HC/LB (c3)   14.457831    DD   ABCD\n",
       "LC/LB (c4)   36.144578    DD   ABCD"
      ]
     },
     "execution_count": 59,
     "metadata": {},
     "output_type": "execute_result"
    }
   ],
   "source": [
    "abcd_perc_v"
   ]
  },
  {
   "cell_type": "code",
   "execution_count": 63,
   "metadata": {},
   "outputs": [
    {
     "data": {
      "image/png": "[encoded data removed]",
      "text/plain": [
       "<Figure size 1000x1000 with 1 Axes>"
      ]
     },
     "metadata": {},
     "output_type": "display_data"
    }
   ],
   "source": [
    "# Useful functions\n",
    "def add_labels(angles, values, labels, offset, ax):\n",
    "    padding = 4\n",
    "    for angle, value, label in zip(angles, values, labels):\n",
    "        rotation, alignment = get_label_rotation(angle, offset)\n",
    "        ax.text(x=angle,\n",
    "                y=value + padding,\n",
    "                s=label,\n",
    "                ha=alignment,\n",
    "                va='center',\n",
    "                rotation=rotation,\n",
    "                rotation_mode='anchor')\n",
    "\n",
    "# Has to be defined for each plot, as the angle is different.\n",
    "def get_label_rotation(angle, offset):\n",
    "    rotation = np.rad2deg(angle + offset)\n",
    "    if angle <= np.pi / 1 or angle >= 3 * np.pi / 1:\n",
    "        alignment = 'right'\n",
    "        rotation = rotation + 180\n",
    "    else:\n",
    "        alignment = 'left'\n",
    "        rotation = rotation \n",
    "    return rotation, alignment\n",
    "\n",
    "# Circular barplot.\n",
    "values=abcd_perc_v['values'].values\n",
    "labels=abcd_perc_v.index\n",
    "group = abcd_perc_v['group'].values\n",
    "\n",
    "# Create space between clusters.\n",
    "pad = 3\n",
    "angles_n = len(values) + pad * len(np.unique(group))\n",
    "angles = np.linspace(0, 2 * np.pi, num=angles_n, endpoint=False)\n",
    "\n",
    "# Set the width of each bar + offset for the first one.\n",
    "width = 2 * np.pi / len(angles)\n",
    "offset = 0\n",
    "\n",
    "# Getting the size of each group.\n",
    "group_size = [len(i[1]) for i in abcd_perc_v.groupby('group')]\n",
    "idxs = []\n",
    "for size in group_size:\n",
    "    idxs += list(range(offset + pad, offset + size + pad))\n",
    "    offset += size + pad\n",
    "\n",
    "# Create the figure and the axis.\n",
    "fig, ax = plt.subplots(figsize=(10, 10), subplot_kw={\"projection\": \"polar\"})\n",
    "\n",
    "ax.set_theta_offset(offset)\n",
    "ax.set_frame_on(False)\n",
    "\n",
    "# Set limits.\n",
    "ax.set_ylim(-100, 100)\n",
    "\n",
    "# Remove grid and tick marks.\n",
    "ax.xaxis.grid(False)\n",
    "ax.yaxis.grid(False)\n",
    "ax.set_yticks([])\n",
    "ax.set_xticks([])\n",
    "\n",
    "# Set colors\n",
    "colors = sns.color_palette(\"bone\", n_colors=7)\n",
    "color = [colors[i] for i, size in enumerate(group_size) for _ in range(size)]\n",
    "\n",
    "# Plot the bars.\n",
    "ax.bar(angles[idxs], values, width=width, linewidth=1, color=color, edgecolor=\"black\")\n",
    "\n",
    "# Add labels.\n",
    "add_labels(angles[idxs], values, labels, offset, ax)\n",
    "\n",
    "# Adding reference lines and group indicators.\n",
    "offset = 0\n",
    "for group, size in zip(np.unique(abcd_perc_v['group'].values), group_size):\n",
    "    x1 = np.linspace(angles[offset + pad], angles[offset + size + pad - 1], num=50)\n",
    "    ax.plot(x1, [-5] * 50, color=\"#333333\")\n",
    "\n",
    "    # add group indicators.\n",
    "    ax.text(\n",
    "        np.mean(x1), -20, group, color=\"#333333\", fontsize=12,\n",
    "        fontweight=\"bold\", ha=\"center\", va=\"center\"\n",
    "    )\n",
    "\n",
    "    # Add reference lines.\n",
    "    x2 = np.linspace(angles[offset], angles[offset + pad - 1], num=50)\n",
    "    ax.plot(x2, [20] * 50, color=\"#bebebe\", lw=0.8)\n",
    "    ax.plot(x2, [40] * 50, color=\"#bebebe\", lw=0.8)\n",
    "    ax.plot(x2, [60] * 50, color=\"#bebebe\", lw=0.8)\n",
    "\n",
    "    offset += size + pad\n",
    "\n",
    "# Add label to single reference bar. \n",
    "ax.text(\n",
    "    np.mean(x2), 68, '60%', color=\"#333333\", fontsize=8,\n",
    "    fontweight=\"normal\", ha=\"center\", va=\"center\", rotation=0\n",
    ")\n",
    "ax.text(\n",
    "    np.mean(x2), 48, '40%', color=\"#333333\", fontsize=8,\n",
    "    fontweight=\"normal\", ha=\"center\", va=\"center\", rotation=0\n",
    ")\n",
    "ax.text(\n",
    "    np.mean(x2), 28, '20%', color=\"#333333\", fontsize=8,\n",
    "    fontweight=\"normal\", ha=\"center\", va=\"center\", rotation=0\n",
    ")\n",
    "\n",
    "plt.savefig(f'{output_dir}/circular_ABCD_youth_dx.png', dpi=900)\n",
    "plt.show()"
   ]
  }
 ],
 "metadata": {
  "kernelspec": {
   "display_name": "neurostatx-0.1.0",
   "language": "python",
   "name": "python3"
  },
  "language_info": {
   "codemirror_mode": {
    "name": "ipython",
    "version": 3
   },
   "file_extension": ".py",
   "mimetype": "text/x-python",
   "name": "python",
   "nbconvert_exporter": "python",
   "pygments_lexer": "ipython3",
   "version": "3.11.8"
  }
 },
 "nbformat": 4,
 "nbformat_minor": 2
}
